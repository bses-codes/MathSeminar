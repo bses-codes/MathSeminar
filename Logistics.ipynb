{
 "cells": [
  {
   "cell_type": "code",
   "execution_count": 14,
   "id": "initial_id",
   "metadata": {
    "collapsed": true,
    "ExecuteTime": {
     "end_time": "2024-01-29T16:00:05.162603Z",
     "start_time": "2024-01-29T16:00:05.159385Z"
    }
   },
   "outputs": [],
   "source": [
    "import time\n",
    "import psutil\n",
    "import os\n",
    "import pandas as pd\n",
    "import matplotlib.pyplot as plt\n",
    "# import xgboost as xgb\n",
    "from sklearn.linear_model import LogisticRegression\n",
    "from sklearn.metrics import mean_absolute_percentage_error, r2_score\n",
    "from sklearn.decomposition import PCA\n",
    "from sklearn.preprocessing import StandardScaler\n",
    "from sklearn.pipeline import Pipeline\n",
    "# from xgboost import XGBRegressor\n",
    "from sklearn.model_selection import train_test_split, GridSearchCV"
   ]
  },
  {
   "cell_type": "code",
   "execution_count": 3,
   "outputs": [
    {
     "data": {
      "text/plain": "         x1      x2      x3     x4      x5     x6      x7      x8     x9  \\\n0      8,43    6,01   -2,72   0,72    4,21  -2,41  -13,92   -4,76  12,84   \n1      10,2     2,8    3,69   4,78  -11,03  -0,59    0,23   -1,41     -1   \n2      0,65    2,16   -4,61   7,55  -15,61  -1,78    5,94  -10,31   6,04   \n3     -2,55   -4,17    0,37  13,28   -0,99   4,19    6,62  -18,58   4,22   \n4      7,16    4,12  -12,33   4,42  -11,44  -0,41   -1,52   -6,19  -0,99   \n...     ...     ...     ...    ...     ...    ...     ...     ...    ...   \n9995   0,89   -1,18   -8,19  10,37  -15,97  -9,01  -10,26   -6,03   2,18   \n9996   0,82    -0,6   -4,77   5,14  -10,15   -0,9   -4,39   -8,83   -1,7   \n9997   1,05  -14,15   -4,79   7,77    1,96  10,08   -3,46    1,47  -3,21   \n9998  -5,03    5,64   -1,39  -0,13   -8,25   0,51   -2,18   -5,76  -3,28   \n9999   8,38   -0,83    2,55    6,4   -0,28   1,36    9,22   -4,81   1,06   \n\n         x10  ...    x192     x193     x194     x195    x196     x197  \\\n0       2,14  ...  205,61   -31,02   -55,51  -107,07   86,04  -194,53   \n1       0,68  ...  121,37  -148,39    68,38   -51,78  115,29     6,08   \n2     -14,88  ...  124,62   -56,07  -121,72   -39,61   95,11  -210,68   \n3      -14,8  ...  339,98   -17,28    20,72     -196  154,71   -28,03   \n4       2,49  ...  235,38    50,33    69,94   -88,98  133,11   -92,09   \n...      ...  ...     ...      ...      ...      ...     ...      ...   \n9995   -8,54  ...  158,45    43,78     -111  -102,55    79,5   -153,3   \n9996  -15,53  ...  119,58    -50,5    54,11   -44,12   54,07   -124,6   \n9997  -12,54  ...  -77,91    33,44    -8,62    91,63   33,38   -15,27   \n9998  -10,28  ...   22,41   -17,28    80,15    41,77    45,8    53,39   \n9999  -13,77  ...  245,37   -25,42   -70,92  -147,55  122,22  -175,97   \n\n         x198     x199     x200       y  \n0     -248,93  -201,57  -128,54  -17,03  \n1     -126,89   -26,54   -25,07   33,54  \n2      -184,6   294,36  -265,74   10,16  \n3     -382,79    80,13   -89,68   44,21  \n4     -263,55   531,99   -26,01  127,59  \n...       ...      ...      ...     ...  \n9995  -119,58    212,3  -218,68   24,19  \n9996   -14,02   190,87  -106,69   66,04  \n9997   146,97   109,47   -51,95   40,98  \n9998    86,07    92,39      -66   55,56  \n9999  -282,77    71,26  -265,27   15,62  \n\n[10000 rows x 201 columns]",
      "text/html": "<div>\n<style scoped>\n    .dataframe tbody tr th:only-of-type {\n        vertical-align: middle;\n    }\n\n    .dataframe tbody tr th {\n        vertical-align: top;\n    }\n\n    .dataframe thead th {\n        text-align: right;\n    }\n</style>\n<table border=\"1\" class=\"dataframe\">\n  <thead>\n    <tr style=\"text-align: right;\">\n      <th></th>\n      <th>x1</th>\n      <th>x2</th>\n      <th>x3</th>\n      <th>x4</th>\n      <th>x5</th>\n      <th>x6</th>\n      <th>x7</th>\n      <th>x8</th>\n      <th>x9</th>\n      <th>x10</th>\n      <th>...</th>\n      <th>x192</th>\n      <th>x193</th>\n      <th>x194</th>\n      <th>x195</th>\n      <th>x196</th>\n      <th>x197</th>\n      <th>x198</th>\n      <th>x199</th>\n      <th>x200</th>\n      <th>y</th>\n    </tr>\n  </thead>\n  <tbody>\n    <tr>\n      <th>0</th>\n      <td>8,43</td>\n      <td>6,01</td>\n      <td>-2,72</td>\n      <td>0,72</td>\n      <td>4,21</td>\n      <td>-2,41</td>\n      <td>-13,92</td>\n      <td>-4,76</td>\n      <td>12,84</td>\n      <td>2,14</td>\n      <td>...</td>\n      <td>205,61</td>\n      <td>-31,02</td>\n      <td>-55,51</td>\n      <td>-107,07</td>\n      <td>86,04</td>\n      <td>-194,53</td>\n      <td>-248,93</td>\n      <td>-201,57</td>\n      <td>-128,54</td>\n      <td>-17,03</td>\n    </tr>\n    <tr>\n      <th>1</th>\n      <td>10,2</td>\n      <td>2,8</td>\n      <td>3,69</td>\n      <td>4,78</td>\n      <td>-11,03</td>\n      <td>-0,59</td>\n      <td>0,23</td>\n      <td>-1,41</td>\n      <td>-1</td>\n      <td>0,68</td>\n      <td>...</td>\n      <td>121,37</td>\n      <td>-148,39</td>\n      <td>68,38</td>\n      <td>-51,78</td>\n      <td>115,29</td>\n      <td>6,08</td>\n      <td>-126,89</td>\n      <td>-26,54</td>\n      <td>-25,07</td>\n      <td>33,54</td>\n    </tr>\n    <tr>\n      <th>2</th>\n      <td>0,65</td>\n      <td>2,16</td>\n      <td>-4,61</td>\n      <td>7,55</td>\n      <td>-15,61</td>\n      <td>-1,78</td>\n      <td>5,94</td>\n      <td>-10,31</td>\n      <td>6,04</td>\n      <td>-14,88</td>\n      <td>...</td>\n      <td>124,62</td>\n      <td>-56,07</td>\n      <td>-121,72</td>\n      <td>-39,61</td>\n      <td>95,11</td>\n      <td>-210,68</td>\n      <td>-184,6</td>\n      <td>294,36</td>\n      <td>-265,74</td>\n      <td>10,16</td>\n    </tr>\n    <tr>\n      <th>3</th>\n      <td>-2,55</td>\n      <td>-4,17</td>\n      <td>0,37</td>\n      <td>13,28</td>\n      <td>-0,99</td>\n      <td>4,19</td>\n      <td>6,62</td>\n      <td>-18,58</td>\n      <td>4,22</td>\n      <td>-14,8</td>\n      <td>...</td>\n      <td>339,98</td>\n      <td>-17,28</td>\n      <td>20,72</td>\n      <td>-196</td>\n      <td>154,71</td>\n      <td>-28,03</td>\n      <td>-382,79</td>\n      <td>80,13</td>\n      <td>-89,68</td>\n      <td>44,21</td>\n    </tr>\n    <tr>\n      <th>4</th>\n      <td>7,16</td>\n      <td>4,12</td>\n      <td>-12,33</td>\n      <td>4,42</td>\n      <td>-11,44</td>\n      <td>-0,41</td>\n      <td>-1,52</td>\n      <td>-6,19</td>\n      <td>-0,99</td>\n      <td>2,49</td>\n      <td>...</td>\n      <td>235,38</td>\n      <td>50,33</td>\n      <td>69,94</td>\n      <td>-88,98</td>\n      <td>133,11</td>\n      <td>-92,09</td>\n      <td>-263,55</td>\n      <td>531,99</td>\n      <td>-26,01</td>\n      <td>127,59</td>\n    </tr>\n    <tr>\n      <th>...</th>\n      <td>...</td>\n      <td>...</td>\n      <td>...</td>\n      <td>...</td>\n      <td>...</td>\n      <td>...</td>\n      <td>...</td>\n      <td>...</td>\n      <td>...</td>\n      <td>...</td>\n      <td>...</td>\n      <td>...</td>\n      <td>...</td>\n      <td>...</td>\n      <td>...</td>\n      <td>...</td>\n      <td>...</td>\n      <td>...</td>\n      <td>...</td>\n      <td>...</td>\n      <td>...</td>\n    </tr>\n    <tr>\n      <th>9995</th>\n      <td>0,89</td>\n      <td>-1,18</td>\n      <td>-8,19</td>\n      <td>10,37</td>\n      <td>-15,97</td>\n      <td>-9,01</td>\n      <td>-10,26</td>\n      <td>-6,03</td>\n      <td>2,18</td>\n      <td>-8,54</td>\n      <td>...</td>\n      <td>158,45</td>\n      <td>43,78</td>\n      <td>-111</td>\n      <td>-102,55</td>\n      <td>79,5</td>\n      <td>-153,3</td>\n      <td>-119,58</td>\n      <td>212,3</td>\n      <td>-218,68</td>\n      <td>24,19</td>\n    </tr>\n    <tr>\n      <th>9996</th>\n      <td>0,82</td>\n      <td>-0,6</td>\n      <td>-4,77</td>\n      <td>5,14</td>\n      <td>-10,15</td>\n      <td>-0,9</td>\n      <td>-4,39</td>\n      <td>-8,83</td>\n      <td>-1,7</td>\n      <td>-15,53</td>\n      <td>...</td>\n      <td>119,58</td>\n      <td>-50,5</td>\n      <td>54,11</td>\n      <td>-44,12</td>\n      <td>54,07</td>\n      <td>-124,6</td>\n      <td>-14,02</td>\n      <td>190,87</td>\n      <td>-106,69</td>\n      <td>66,04</td>\n    </tr>\n    <tr>\n      <th>9997</th>\n      <td>1,05</td>\n      <td>-14,15</td>\n      <td>-4,79</td>\n      <td>7,77</td>\n      <td>1,96</td>\n      <td>10,08</td>\n      <td>-3,46</td>\n      <td>1,47</td>\n      <td>-3,21</td>\n      <td>-12,54</td>\n      <td>...</td>\n      <td>-77,91</td>\n      <td>33,44</td>\n      <td>-8,62</td>\n      <td>91,63</td>\n      <td>33,38</td>\n      <td>-15,27</td>\n      <td>146,97</td>\n      <td>109,47</td>\n      <td>-51,95</td>\n      <td>40,98</td>\n    </tr>\n    <tr>\n      <th>9998</th>\n      <td>-5,03</td>\n      <td>5,64</td>\n      <td>-1,39</td>\n      <td>-0,13</td>\n      <td>-8,25</td>\n      <td>0,51</td>\n      <td>-2,18</td>\n      <td>-5,76</td>\n      <td>-3,28</td>\n      <td>-10,28</td>\n      <td>...</td>\n      <td>22,41</td>\n      <td>-17,28</td>\n      <td>80,15</td>\n      <td>41,77</td>\n      <td>45,8</td>\n      <td>53,39</td>\n      <td>86,07</td>\n      <td>92,39</td>\n      <td>-66</td>\n      <td>55,56</td>\n    </tr>\n    <tr>\n      <th>9999</th>\n      <td>8,38</td>\n      <td>-0,83</td>\n      <td>2,55</td>\n      <td>6,4</td>\n      <td>-0,28</td>\n      <td>1,36</td>\n      <td>9,22</td>\n      <td>-4,81</td>\n      <td>1,06</td>\n      <td>-13,77</td>\n      <td>...</td>\n      <td>245,37</td>\n      <td>-25,42</td>\n      <td>-70,92</td>\n      <td>-147,55</td>\n      <td>122,22</td>\n      <td>-175,97</td>\n      <td>-282,77</td>\n      <td>71,26</td>\n      <td>-265,27</td>\n      <td>15,62</td>\n    </tr>\n  </tbody>\n</table>\n<p>10000 rows × 201 columns</p>\n</div>"
     },
     "execution_count": 3,
     "metadata": {},
     "output_type": "execute_result"
    }
   ],
   "source": [
    "df = pd.read_csv('data_pca_10000x201.csv', sep=';')\n",
    "df"
   ],
   "metadata": {
    "collapsed": false,
    "ExecuteTime": {
     "end_time": "2024-01-29T15:56:32.038111Z",
     "start_time": "2024-01-29T15:56:31.679613Z"
    }
   },
   "id": "9d67610ac7daf45c"
  },
  {
   "cell_type": "code",
   "execution_count": 4,
   "outputs": [],
   "source": [
    "for column in df.columns:\n",
    "    df[column] = df[column].str.replace(',','.')\n",
    "    df[column] = df[column].astype(float)"
   ],
   "metadata": {
    "collapsed": false,
    "ExecuteTime": {
     "end_time": "2024-01-29T15:56:36.846543Z",
     "start_time": "2024-01-29T15:56:36.516408Z"
    }
   },
   "id": "1a5f812758e5c492"
  },
  {
   "cell_type": "code",
   "execution_count": 6,
   "outputs": [
    {
     "data": {
      "text/plain": "         x1     x2     x3     x4     x5     x6     x7     x8     x9    x10  \\\n0      8.43   6.01  -2.72   0.72   4.21  -2.41 -13.92  -4.76  12.84   2.14   \n1     10.20   2.80   3.69   4.78 -11.03  -0.59   0.23  -1.41  -1.00   0.68   \n2      0.65   2.16  -4.61   7.55 -15.61  -1.78   5.94 -10.31   6.04 -14.88   \n3     -2.55  -4.17   0.37  13.28  -0.99   4.19   6.62 -18.58   4.22 -14.80   \n4      7.16   4.12 -12.33   4.42 -11.44  -0.41  -1.52  -6.19  -0.99   2.49   \n...     ...    ...    ...    ...    ...    ...    ...    ...    ...    ...   \n9995   0.89  -1.18  -8.19  10.37 -15.97  -9.01 -10.26  -6.03   2.18  -8.54   \n9996   0.82  -0.60  -4.77   5.14 -10.15  -0.90  -4.39  -8.83  -1.70 -15.53   \n9997   1.05 -14.15  -4.79   7.77   1.96  10.08  -3.46   1.47  -3.21 -12.54   \n9998  -5.03   5.64  -1.39  -0.13  -8.25   0.51  -2.18  -5.76  -3.28 -10.28   \n9999   8.38  -0.83   2.55   6.40  -0.28   1.36   9.22  -4.81   1.06 -13.77   \n\n      ...    x193    x194    x195    x196    x197    x198    x199    x200  \\\n0     ...  -31.02  -55.51 -107.07   86.04 -194.53 -248.93 -201.57 -128.54   \n1     ... -148.39   68.38  -51.78  115.29    6.08 -126.89  -26.54  -25.07   \n2     ...  -56.07 -121.72  -39.61   95.11 -210.68 -184.60  294.36 -265.74   \n3     ...  -17.28   20.72 -196.00  154.71  -28.03 -382.79   80.13  -89.68   \n4     ...   50.33   69.94  -88.98  133.11  -92.09 -263.55  531.99  -26.01   \n...   ...     ...     ...     ...     ...     ...     ...     ...     ...   \n9995  ...   43.78 -111.00 -102.55   79.50 -153.30 -119.58  212.30 -218.68   \n9996  ...  -50.50   54.11  -44.12   54.07 -124.60  -14.02  190.87 -106.69   \n9997  ...   33.44   -8.62   91.63   33.38  -15.27  146.97  109.47  -51.95   \n9998  ...  -17.28   80.15   41.77   45.80   53.39   86.07   92.39  -66.00   \n9999  ...  -25.42  -70.92 -147.55  122.22 -175.97 -282.77   71.26 -265.27   \n\n           y  new_y  \n0     -17.03      0  \n1      33.54      1  \n2      10.16      1  \n3      44.21      1  \n4     127.59      1  \n...      ...    ...  \n9995   24.19      1  \n9996   66.04      1  \n9997   40.98      1  \n9998   55.56      1  \n9999   15.62      1  \n\n[10000 rows x 202 columns]",
      "text/html": "<div>\n<style scoped>\n    .dataframe tbody tr th:only-of-type {\n        vertical-align: middle;\n    }\n\n    .dataframe tbody tr th {\n        vertical-align: top;\n    }\n\n    .dataframe thead th {\n        text-align: right;\n    }\n</style>\n<table border=\"1\" class=\"dataframe\">\n  <thead>\n    <tr style=\"text-align: right;\">\n      <th></th>\n      <th>x1</th>\n      <th>x2</th>\n      <th>x3</th>\n      <th>x4</th>\n      <th>x5</th>\n      <th>x6</th>\n      <th>x7</th>\n      <th>x8</th>\n      <th>x9</th>\n      <th>x10</th>\n      <th>...</th>\n      <th>x193</th>\n      <th>x194</th>\n      <th>x195</th>\n      <th>x196</th>\n      <th>x197</th>\n      <th>x198</th>\n      <th>x199</th>\n      <th>x200</th>\n      <th>y</th>\n      <th>new_y</th>\n    </tr>\n  </thead>\n  <tbody>\n    <tr>\n      <th>0</th>\n      <td>8.43</td>\n      <td>6.01</td>\n      <td>-2.72</td>\n      <td>0.72</td>\n      <td>4.21</td>\n      <td>-2.41</td>\n      <td>-13.92</td>\n      <td>-4.76</td>\n      <td>12.84</td>\n      <td>2.14</td>\n      <td>...</td>\n      <td>-31.02</td>\n      <td>-55.51</td>\n      <td>-107.07</td>\n      <td>86.04</td>\n      <td>-194.53</td>\n      <td>-248.93</td>\n      <td>-201.57</td>\n      <td>-128.54</td>\n      <td>-17.03</td>\n      <td>0</td>\n    </tr>\n    <tr>\n      <th>1</th>\n      <td>10.20</td>\n      <td>2.80</td>\n      <td>3.69</td>\n      <td>4.78</td>\n      <td>-11.03</td>\n      <td>-0.59</td>\n      <td>0.23</td>\n      <td>-1.41</td>\n      <td>-1.00</td>\n      <td>0.68</td>\n      <td>...</td>\n      <td>-148.39</td>\n      <td>68.38</td>\n      <td>-51.78</td>\n      <td>115.29</td>\n      <td>6.08</td>\n      <td>-126.89</td>\n      <td>-26.54</td>\n      <td>-25.07</td>\n      <td>33.54</td>\n      <td>1</td>\n    </tr>\n    <tr>\n      <th>2</th>\n      <td>0.65</td>\n      <td>2.16</td>\n      <td>-4.61</td>\n      <td>7.55</td>\n      <td>-15.61</td>\n      <td>-1.78</td>\n      <td>5.94</td>\n      <td>-10.31</td>\n      <td>6.04</td>\n      <td>-14.88</td>\n      <td>...</td>\n      <td>-56.07</td>\n      <td>-121.72</td>\n      <td>-39.61</td>\n      <td>95.11</td>\n      <td>-210.68</td>\n      <td>-184.60</td>\n      <td>294.36</td>\n      <td>-265.74</td>\n      <td>10.16</td>\n      <td>1</td>\n    </tr>\n    <tr>\n      <th>3</th>\n      <td>-2.55</td>\n      <td>-4.17</td>\n      <td>0.37</td>\n      <td>13.28</td>\n      <td>-0.99</td>\n      <td>4.19</td>\n      <td>6.62</td>\n      <td>-18.58</td>\n      <td>4.22</td>\n      <td>-14.80</td>\n      <td>...</td>\n      <td>-17.28</td>\n      <td>20.72</td>\n      <td>-196.00</td>\n      <td>154.71</td>\n      <td>-28.03</td>\n      <td>-382.79</td>\n      <td>80.13</td>\n      <td>-89.68</td>\n      <td>44.21</td>\n      <td>1</td>\n    </tr>\n    <tr>\n      <th>4</th>\n      <td>7.16</td>\n      <td>4.12</td>\n      <td>-12.33</td>\n      <td>4.42</td>\n      <td>-11.44</td>\n      <td>-0.41</td>\n      <td>-1.52</td>\n      <td>-6.19</td>\n      <td>-0.99</td>\n      <td>2.49</td>\n      <td>...</td>\n      <td>50.33</td>\n      <td>69.94</td>\n      <td>-88.98</td>\n      <td>133.11</td>\n      <td>-92.09</td>\n      <td>-263.55</td>\n      <td>531.99</td>\n      <td>-26.01</td>\n      <td>127.59</td>\n      <td>1</td>\n    </tr>\n    <tr>\n      <th>...</th>\n      <td>...</td>\n      <td>...</td>\n      <td>...</td>\n      <td>...</td>\n      <td>...</td>\n      <td>...</td>\n      <td>...</td>\n      <td>...</td>\n      <td>...</td>\n      <td>...</td>\n      <td>...</td>\n      <td>...</td>\n      <td>...</td>\n      <td>...</td>\n      <td>...</td>\n      <td>...</td>\n      <td>...</td>\n      <td>...</td>\n      <td>...</td>\n      <td>...</td>\n      <td>...</td>\n    </tr>\n    <tr>\n      <th>9995</th>\n      <td>0.89</td>\n      <td>-1.18</td>\n      <td>-8.19</td>\n      <td>10.37</td>\n      <td>-15.97</td>\n      <td>-9.01</td>\n      <td>-10.26</td>\n      <td>-6.03</td>\n      <td>2.18</td>\n      <td>-8.54</td>\n      <td>...</td>\n      <td>43.78</td>\n      <td>-111.00</td>\n      <td>-102.55</td>\n      <td>79.50</td>\n      <td>-153.30</td>\n      <td>-119.58</td>\n      <td>212.30</td>\n      <td>-218.68</td>\n      <td>24.19</td>\n      <td>1</td>\n    </tr>\n    <tr>\n      <th>9996</th>\n      <td>0.82</td>\n      <td>-0.60</td>\n      <td>-4.77</td>\n      <td>5.14</td>\n      <td>-10.15</td>\n      <td>-0.90</td>\n      <td>-4.39</td>\n      <td>-8.83</td>\n      <td>-1.70</td>\n      <td>-15.53</td>\n      <td>...</td>\n      <td>-50.50</td>\n      <td>54.11</td>\n      <td>-44.12</td>\n      <td>54.07</td>\n      <td>-124.60</td>\n      <td>-14.02</td>\n      <td>190.87</td>\n      <td>-106.69</td>\n      <td>66.04</td>\n      <td>1</td>\n    </tr>\n    <tr>\n      <th>9997</th>\n      <td>1.05</td>\n      <td>-14.15</td>\n      <td>-4.79</td>\n      <td>7.77</td>\n      <td>1.96</td>\n      <td>10.08</td>\n      <td>-3.46</td>\n      <td>1.47</td>\n      <td>-3.21</td>\n      <td>-12.54</td>\n      <td>...</td>\n      <td>33.44</td>\n      <td>-8.62</td>\n      <td>91.63</td>\n      <td>33.38</td>\n      <td>-15.27</td>\n      <td>146.97</td>\n      <td>109.47</td>\n      <td>-51.95</td>\n      <td>40.98</td>\n      <td>1</td>\n    </tr>\n    <tr>\n      <th>9998</th>\n      <td>-5.03</td>\n      <td>5.64</td>\n      <td>-1.39</td>\n      <td>-0.13</td>\n      <td>-8.25</td>\n      <td>0.51</td>\n      <td>-2.18</td>\n      <td>-5.76</td>\n      <td>-3.28</td>\n      <td>-10.28</td>\n      <td>...</td>\n      <td>-17.28</td>\n      <td>80.15</td>\n      <td>41.77</td>\n      <td>45.80</td>\n      <td>53.39</td>\n      <td>86.07</td>\n      <td>92.39</td>\n      <td>-66.00</td>\n      <td>55.56</td>\n      <td>1</td>\n    </tr>\n    <tr>\n      <th>9999</th>\n      <td>8.38</td>\n      <td>-0.83</td>\n      <td>2.55</td>\n      <td>6.40</td>\n      <td>-0.28</td>\n      <td>1.36</td>\n      <td>9.22</td>\n      <td>-4.81</td>\n      <td>1.06</td>\n      <td>-13.77</td>\n      <td>...</td>\n      <td>-25.42</td>\n      <td>-70.92</td>\n      <td>-147.55</td>\n      <td>122.22</td>\n      <td>-175.97</td>\n      <td>-282.77</td>\n      <td>71.26</td>\n      <td>-265.27</td>\n      <td>15.62</td>\n      <td>1</td>\n    </tr>\n  </tbody>\n</table>\n<p>10000 rows × 202 columns</p>\n</div>"
     },
     "execution_count": 6,
     "metadata": {},
     "output_type": "execute_result"
    }
   ],
   "source": [
    "df['new_y'] = [0 if i < 0 else 1 for i in df['y']]\n",
    "df"
   ],
   "metadata": {
    "collapsed": false,
    "ExecuteTime": {
     "end_time": "2024-01-29T15:58:28.924801Z",
     "start_time": "2024-01-29T15:58:28.904586Z"
    }
   },
   "id": "2b0bcc0e6a7252ca"
  },
  {
   "cell_type": "code",
   "execution_count": 7,
   "outputs": [
    {
     "data": {
      "text/plain": "x1       0\nx2       0\nx3       0\nx4       0\nx5       0\n        ..\nx198     0\nx199     0\nx200     0\ny        0\nnew_y    0\nLength: 202, dtype: int64"
     },
     "execution_count": 7,
     "metadata": {},
     "output_type": "execute_result"
    }
   ],
   "source": [
    "df.isnull().sum()"
   ],
   "metadata": {
    "collapsed": false,
    "ExecuteTime": {
     "end_time": "2024-01-29T15:58:40.166637Z",
     "start_time": "2024-01-29T15:58:40.148156Z"
    }
   },
   "id": "851ba14715e6937d"
  },
  {
   "cell_type": "code",
   "execution_count": 8,
   "outputs": [
    {
     "data": {
      "text/plain": "(10000, 202)"
     },
     "execution_count": 8,
     "metadata": {},
     "output_type": "execute_result"
    }
   ],
   "source": [
    "df.shape"
   ],
   "metadata": {
    "collapsed": false,
    "ExecuteTime": {
     "end_time": "2024-01-29T15:58:44.972266Z",
     "start_time": "2024-01-29T15:58:44.966282Z"
    }
   },
   "id": "1363ab91c7d926af"
  },
  {
   "cell_type": "code",
   "outputs": [
    {
     "data": {
      "text/plain": "         x1     x2     x3     x4     x5     x6     x7     x8     x9    x10  \\\n0      8.43   6.01  -2.72   0.72   4.21  -2.41 -13.92  -4.76  12.84   2.14   \n1     10.20   2.80   3.69   4.78 -11.03  -0.59   0.23  -1.41  -1.00   0.68   \n2      0.65   2.16  -4.61   7.55 -15.61  -1.78   5.94 -10.31   6.04 -14.88   \n3     -2.55  -4.17   0.37  13.28  -0.99   4.19   6.62 -18.58   4.22 -14.80   \n4      7.16   4.12 -12.33   4.42 -11.44  -0.41  -1.52  -6.19  -0.99   2.49   \n...     ...    ...    ...    ...    ...    ...    ...    ...    ...    ...   \n9995   0.89  -1.18  -8.19  10.37 -15.97  -9.01 -10.26  -6.03   2.18  -8.54   \n9996   0.82  -0.60  -4.77   5.14 -10.15  -0.90  -4.39  -8.83  -1.70 -15.53   \n9997   1.05 -14.15  -4.79   7.77   1.96  10.08  -3.46   1.47  -3.21 -12.54   \n9998  -5.03   5.64  -1.39  -0.13  -8.25   0.51  -2.18  -5.76  -3.28 -10.28   \n9999   8.38  -0.83   2.55   6.40  -0.28   1.36   9.22  -4.81   1.06 -13.77   \n\n      ...    x192    x193    x194    x195    x196    x197    x198    x199  \\\n0     ...  205.61  -31.02  -55.51 -107.07   86.04 -194.53 -248.93 -201.57   \n1     ...  121.37 -148.39   68.38  -51.78  115.29    6.08 -126.89  -26.54   \n2     ...  124.62  -56.07 -121.72  -39.61   95.11 -210.68 -184.60  294.36   \n3     ...  339.98  -17.28   20.72 -196.00  154.71  -28.03 -382.79   80.13   \n4     ...  235.38   50.33   69.94  -88.98  133.11  -92.09 -263.55  531.99   \n...   ...     ...     ...     ...     ...     ...     ...     ...     ...   \n9995  ...  158.45   43.78 -111.00 -102.55   79.50 -153.30 -119.58  212.30   \n9996  ...  119.58  -50.50   54.11  -44.12   54.07 -124.60  -14.02  190.87   \n9997  ...  -77.91   33.44   -8.62   91.63   33.38  -15.27  146.97  109.47   \n9998  ...   22.41  -17.28   80.15   41.77   45.80   53.39   86.07   92.39   \n9999  ...  245.37  -25.42  -70.92 -147.55  122.22 -175.97 -282.77   71.26   \n\n        x200  new_y  \n0    -128.54      0  \n1     -25.07      1  \n2    -265.74      1  \n3     -89.68      1  \n4     -26.01      1  \n...      ...    ...  \n9995 -218.68      1  \n9996 -106.69      1  \n9997  -51.95      1  \n9998  -66.00      1  \n9999 -265.27      1  \n\n[10000 rows x 201 columns]",
      "text/html": "<div>\n<style scoped>\n    .dataframe tbody tr th:only-of-type {\n        vertical-align: middle;\n    }\n\n    .dataframe tbody tr th {\n        vertical-align: top;\n    }\n\n    .dataframe thead th {\n        text-align: right;\n    }\n</style>\n<table border=\"1\" class=\"dataframe\">\n  <thead>\n    <tr style=\"text-align: right;\">\n      <th></th>\n      <th>x1</th>\n      <th>x2</th>\n      <th>x3</th>\n      <th>x4</th>\n      <th>x5</th>\n      <th>x6</th>\n      <th>x7</th>\n      <th>x8</th>\n      <th>x9</th>\n      <th>x10</th>\n      <th>...</th>\n      <th>x192</th>\n      <th>x193</th>\n      <th>x194</th>\n      <th>x195</th>\n      <th>x196</th>\n      <th>x197</th>\n      <th>x198</th>\n      <th>x199</th>\n      <th>x200</th>\n      <th>new_y</th>\n    </tr>\n  </thead>\n  <tbody>\n    <tr>\n      <th>0</th>\n      <td>8.43</td>\n      <td>6.01</td>\n      <td>-2.72</td>\n      <td>0.72</td>\n      <td>4.21</td>\n      <td>-2.41</td>\n      <td>-13.92</td>\n      <td>-4.76</td>\n      <td>12.84</td>\n      <td>2.14</td>\n      <td>...</td>\n      <td>205.61</td>\n      <td>-31.02</td>\n      <td>-55.51</td>\n      <td>-107.07</td>\n      <td>86.04</td>\n      <td>-194.53</td>\n      <td>-248.93</td>\n      <td>-201.57</td>\n      <td>-128.54</td>\n      <td>0</td>\n    </tr>\n    <tr>\n      <th>1</th>\n      <td>10.20</td>\n      <td>2.80</td>\n      <td>3.69</td>\n      <td>4.78</td>\n      <td>-11.03</td>\n      <td>-0.59</td>\n      <td>0.23</td>\n      <td>-1.41</td>\n      <td>-1.00</td>\n      <td>0.68</td>\n      <td>...</td>\n      <td>121.37</td>\n      <td>-148.39</td>\n      <td>68.38</td>\n      <td>-51.78</td>\n      <td>115.29</td>\n      <td>6.08</td>\n      <td>-126.89</td>\n      <td>-26.54</td>\n      <td>-25.07</td>\n      <td>1</td>\n    </tr>\n    <tr>\n      <th>2</th>\n      <td>0.65</td>\n      <td>2.16</td>\n      <td>-4.61</td>\n      <td>7.55</td>\n      <td>-15.61</td>\n      <td>-1.78</td>\n      <td>5.94</td>\n      <td>-10.31</td>\n      <td>6.04</td>\n      <td>-14.88</td>\n      <td>...</td>\n      <td>124.62</td>\n      <td>-56.07</td>\n      <td>-121.72</td>\n      <td>-39.61</td>\n      <td>95.11</td>\n      <td>-210.68</td>\n      <td>-184.60</td>\n      <td>294.36</td>\n      <td>-265.74</td>\n      <td>1</td>\n    </tr>\n    <tr>\n      <th>3</th>\n      <td>-2.55</td>\n      <td>-4.17</td>\n      <td>0.37</td>\n      <td>13.28</td>\n      <td>-0.99</td>\n      <td>4.19</td>\n      <td>6.62</td>\n      <td>-18.58</td>\n      <td>4.22</td>\n      <td>-14.80</td>\n      <td>...</td>\n      <td>339.98</td>\n      <td>-17.28</td>\n      <td>20.72</td>\n      <td>-196.00</td>\n      <td>154.71</td>\n      <td>-28.03</td>\n      <td>-382.79</td>\n      <td>80.13</td>\n      <td>-89.68</td>\n      <td>1</td>\n    </tr>\n    <tr>\n      <th>4</th>\n      <td>7.16</td>\n      <td>4.12</td>\n      <td>-12.33</td>\n      <td>4.42</td>\n      <td>-11.44</td>\n      <td>-0.41</td>\n      <td>-1.52</td>\n      <td>-6.19</td>\n      <td>-0.99</td>\n      <td>2.49</td>\n      <td>...</td>\n      <td>235.38</td>\n      <td>50.33</td>\n      <td>69.94</td>\n      <td>-88.98</td>\n      <td>133.11</td>\n      <td>-92.09</td>\n      <td>-263.55</td>\n      <td>531.99</td>\n      <td>-26.01</td>\n      <td>1</td>\n    </tr>\n    <tr>\n      <th>...</th>\n      <td>...</td>\n      <td>...</td>\n      <td>...</td>\n      <td>...</td>\n      <td>...</td>\n      <td>...</td>\n      <td>...</td>\n      <td>...</td>\n      <td>...</td>\n      <td>...</td>\n      <td>...</td>\n      <td>...</td>\n      <td>...</td>\n      <td>...</td>\n      <td>...</td>\n      <td>...</td>\n      <td>...</td>\n      <td>...</td>\n      <td>...</td>\n      <td>...</td>\n      <td>...</td>\n    </tr>\n    <tr>\n      <th>9995</th>\n      <td>0.89</td>\n      <td>-1.18</td>\n      <td>-8.19</td>\n      <td>10.37</td>\n      <td>-15.97</td>\n      <td>-9.01</td>\n      <td>-10.26</td>\n      <td>-6.03</td>\n      <td>2.18</td>\n      <td>-8.54</td>\n      <td>...</td>\n      <td>158.45</td>\n      <td>43.78</td>\n      <td>-111.00</td>\n      <td>-102.55</td>\n      <td>79.50</td>\n      <td>-153.30</td>\n      <td>-119.58</td>\n      <td>212.30</td>\n      <td>-218.68</td>\n      <td>1</td>\n    </tr>\n    <tr>\n      <th>9996</th>\n      <td>0.82</td>\n      <td>-0.60</td>\n      <td>-4.77</td>\n      <td>5.14</td>\n      <td>-10.15</td>\n      <td>-0.90</td>\n      <td>-4.39</td>\n      <td>-8.83</td>\n      <td>-1.70</td>\n      <td>-15.53</td>\n      <td>...</td>\n      <td>119.58</td>\n      <td>-50.50</td>\n      <td>54.11</td>\n      <td>-44.12</td>\n      <td>54.07</td>\n      <td>-124.60</td>\n      <td>-14.02</td>\n      <td>190.87</td>\n      <td>-106.69</td>\n      <td>1</td>\n    </tr>\n    <tr>\n      <th>9997</th>\n      <td>1.05</td>\n      <td>-14.15</td>\n      <td>-4.79</td>\n      <td>7.77</td>\n      <td>1.96</td>\n      <td>10.08</td>\n      <td>-3.46</td>\n      <td>1.47</td>\n      <td>-3.21</td>\n      <td>-12.54</td>\n      <td>...</td>\n      <td>-77.91</td>\n      <td>33.44</td>\n      <td>-8.62</td>\n      <td>91.63</td>\n      <td>33.38</td>\n      <td>-15.27</td>\n      <td>146.97</td>\n      <td>109.47</td>\n      <td>-51.95</td>\n      <td>1</td>\n    </tr>\n    <tr>\n      <th>9998</th>\n      <td>-5.03</td>\n      <td>5.64</td>\n      <td>-1.39</td>\n      <td>-0.13</td>\n      <td>-8.25</td>\n      <td>0.51</td>\n      <td>-2.18</td>\n      <td>-5.76</td>\n      <td>-3.28</td>\n      <td>-10.28</td>\n      <td>...</td>\n      <td>22.41</td>\n      <td>-17.28</td>\n      <td>80.15</td>\n      <td>41.77</td>\n      <td>45.80</td>\n      <td>53.39</td>\n      <td>86.07</td>\n      <td>92.39</td>\n      <td>-66.00</td>\n      <td>1</td>\n    </tr>\n    <tr>\n      <th>9999</th>\n      <td>8.38</td>\n      <td>-0.83</td>\n      <td>2.55</td>\n      <td>6.40</td>\n      <td>-0.28</td>\n      <td>1.36</td>\n      <td>9.22</td>\n      <td>-4.81</td>\n      <td>1.06</td>\n      <td>-13.77</td>\n      <td>...</td>\n      <td>245.37</td>\n      <td>-25.42</td>\n      <td>-70.92</td>\n      <td>-147.55</td>\n      <td>122.22</td>\n      <td>-175.97</td>\n      <td>-282.77</td>\n      <td>71.26</td>\n      <td>-265.27</td>\n      <td>1</td>\n    </tr>\n  </tbody>\n</table>\n<p>10000 rows × 201 columns</p>\n</div>"
     },
     "execution_count": 10,
     "metadata": {},
     "output_type": "execute_result"
    }
   ],
   "source": [
    "df = df.drop(['y'], axis = 1)\n",
    "df"
   ],
   "metadata": {
    "collapsed": false,
    "ExecuteTime": {
     "end_time": "2024-01-29T15:59:17.273394Z",
     "start_time": "2024-01-29T15:59:17.257264Z"
    }
   },
   "id": "8d2c2b9fb689df28",
   "execution_count": 10
  },
  {
   "cell_type": "code",
   "execution_count": 9,
   "outputs": [],
   "source": [
    "def get_process_memory():\n",
    "    process = psutil.Process(os.getpid())\n",
    "    return process.memory_info().rss"
   ],
   "metadata": {
    "collapsed": false,
    "ExecuteTime": {
     "end_time": "2024-01-29T15:58:49.371103Z",
     "start_time": "2024-01-29T15:58:49.366036Z"
    }
   },
   "id": "3acf5f8072c7bcfb"
  },
  {
   "cell_type": "code",
   "execution_count": 11,
   "outputs": [],
   "source": [
    "X = df.drop(['new_y'],axis = 1)\n",
    "y = df['new_y']"
   ],
   "metadata": {
    "collapsed": false,
    "ExecuteTime": {
     "end_time": "2024-01-29T15:59:43.567413Z",
     "start_time": "2024-01-29T15:59:43.559083Z"
    }
   },
   "id": "f9321b82e5dd632a"
  },
  {
   "cell_type": "code",
   "execution_count": 12,
   "outputs": [],
   "source": [
    "X_train, X_test, y_train, y_test = train_test_split(X,y, test_size = 0.2, random_state =42)"
   ],
   "metadata": {
    "collapsed": false,
    "ExecuteTime": {
     "end_time": "2024-01-29T15:59:50.850395Z",
     "start_time": "2024-01-29T15:59:50.831311Z"
    }
   },
   "id": "49ed52d3692565f6"
  },
  {
   "cell_type": "code",
   "execution_count": 13,
   "outputs": [],
   "source": [
    "sc = StandardScaler()\n",
    "\n",
    "X_train = sc.fit_transform(X_train)\n",
    "X_test = sc.transform(X_test)\n"
   ],
   "metadata": {
    "collapsed": false,
    "ExecuteTime": {
     "end_time": "2024-01-29T15:59:51.307231Z",
     "start_time": "2024-01-29T15:59:51.282397Z"
    }
   },
   "id": "573d00bdec9e018c"
  },
  {
   "cell_type": "code",
   "execution_count": 15,
   "outputs": [],
   "source": [
    "mem_before = get_process_memory()\n",
    "start_time = time.time()\n",
    "regr = LogisticRegression()\n",
    "regr.fit(X_train, y_train)\n",
    "time_without_pca = time.time() - start_time\n",
    "mem_after = get_process_memory()"
   ],
   "metadata": {
    "collapsed": false,
    "ExecuteTime": {
     "end_time": "2024-01-29T16:00:20.867343Z",
     "start_time": "2024-01-29T16:00:20.592256Z"
    }
   },
   "id": "8bdffb210300d30b"
  },
  {
   "cell_type": "code",
   "execution_count": 16,
   "outputs": [],
   "source": [
    "y_pred = regr.predict(X_test)"
   ],
   "metadata": {
    "collapsed": false,
    "ExecuteTime": {
     "end_time": "2024-01-29T16:00:27.396257Z",
     "start_time": "2024-01-29T16:00:27.333475Z"
    }
   },
   "id": "f6584fc842bfb247"
  },
  {
   "cell_type": "code",
   "execution_count": 17,
   "outputs": [
    {
     "data": {
      "text/plain": "    0\n0   0\n1   1\n1   1\n1   1\n1   1\n.. ..\n0   0\n1   1\n0   0\n1   1\n0   0\n\n[2000 rows x 1 columns]",
      "text/html": "<div>\n<style scoped>\n    .dataframe tbody tr th:only-of-type {\n        vertical-align: middle;\n    }\n\n    .dataframe tbody tr th {\n        vertical-align: top;\n    }\n\n    .dataframe thead th {\n        text-align: right;\n    }\n</style>\n<table border=\"1\" class=\"dataframe\">\n  <thead>\n    <tr style=\"text-align: right;\">\n      <th></th>\n      <th>0</th>\n    </tr>\n  </thead>\n  <tbody>\n    <tr>\n      <th>0</th>\n      <td>0</td>\n    </tr>\n    <tr>\n      <th>1</th>\n      <td>1</td>\n    </tr>\n    <tr>\n      <th>1</th>\n      <td>1</td>\n    </tr>\n    <tr>\n      <th>1</th>\n      <td>1</td>\n    </tr>\n    <tr>\n      <th>1</th>\n      <td>1</td>\n    </tr>\n    <tr>\n      <th>...</th>\n      <td>...</td>\n    </tr>\n    <tr>\n      <th>0</th>\n      <td>0</td>\n    </tr>\n    <tr>\n      <th>1</th>\n      <td>1</td>\n    </tr>\n    <tr>\n      <th>0</th>\n      <td>0</td>\n    </tr>\n    <tr>\n      <th>1</th>\n      <td>1</td>\n    </tr>\n    <tr>\n      <th>0</th>\n      <td>0</td>\n    </tr>\n  </tbody>\n</table>\n<p>2000 rows × 1 columns</p>\n</div>"
     },
     "execution_count": 17,
     "metadata": {},
     "output_type": "execute_result"
    }
   ],
   "source": [
    "df1 = pd.DataFrame(list(y_test),y_pred)\n",
    "df1"
   ],
   "metadata": {
    "collapsed": false,
    "ExecuteTime": {
     "end_time": "2024-01-29T16:00:28.600306Z",
     "start_time": "2024-01-29T16:00:28.582692Z"
    }
   },
   "id": "acd4de93f0e80046"
  },
  {
   "cell_type": "code",
   "execution_count": 18,
   "outputs": [
    {
     "name": "stdout",
     "output_type": "stream",
     "text": [
      "The R2 score is 0.9632476478494624\n",
      "Time  0.2663991451263428\n",
      "Memory 1048576\n"
     ]
    }
   ],
   "source": [
    "print('The R2 score is', r2_score(y_test, y_pred))\n",
    "print('Time ', time_without_pca)\n",
    "print('Memory', mem_after-mem_before)"
   ],
   "metadata": {
    "collapsed": false,
    "ExecuteTime": {
     "end_time": "2024-01-29T16:00:41.075230Z",
     "start_time": "2024-01-29T16:00:41.070564Z"
    }
   },
   "id": "af3783b7e8b74e5a"
  },
  {
   "cell_type": "code",
   "execution_count": 37,
   "outputs": [],
   "source": [
    "pca = PCA(0.95)\n",
    "X_train_pca = pca.fit_transform(X_train)\n",
    "X_test_pca = pca.transform(X_test)"
   ],
   "metadata": {
    "collapsed": false,
    "ExecuteTime": {
     "end_time": "2024-01-29T16:06:26.614823Z",
     "start_time": "2024-01-29T16:06:26.387151Z"
    }
   },
   "id": "a9368483be1f60e3"
  },
  {
   "cell_type": "code",
   "execution_count": 38,
   "outputs": [],
   "source": [
    "mem_before_pca = get_process_memory()\n",
    "start_time_pca = time.time()\n",
    "regr_pca = LogisticRegression()\n",
    "regr_pca.fit(X_train_pca, y_train)\n",
    "time_pca = time.time() - start_time_pca\n",
    "mem_after_pca = get_process_memory()"
   ],
   "metadata": {
    "collapsed": false,
    "ExecuteTime": {
     "end_time": "2024-01-29T16:06:26.869995Z",
     "start_time": "2024-01-29T16:06:26.655485Z"
    }
   },
   "id": "e76e45d96be08d31"
  },
  {
   "cell_type": "code",
   "execution_count": 39,
   "outputs": [
    {
     "data": {
      "text/plain": "    0\n0   0\n1   1\n1   1\n1   1\n1   1\n.. ..\n0   0\n1   0\n0   0\n1   1\n0   0\n\n[2000 rows x 1 columns]",
      "text/html": "<div>\n<style scoped>\n    .dataframe tbody tr th:only-of-type {\n        vertical-align: middle;\n    }\n\n    .dataframe tbody tr th {\n        vertical-align: top;\n    }\n\n    .dataframe thead th {\n        text-align: right;\n    }\n</style>\n<table border=\"1\" class=\"dataframe\">\n  <thead>\n    <tr style=\"text-align: right;\">\n      <th></th>\n      <th>0</th>\n    </tr>\n  </thead>\n  <tbody>\n    <tr>\n      <th>0</th>\n      <td>0</td>\n    </tr>\n    <tr>\n      <th>1</th>\n      <td>1</td>\n    </tr>\n    <tr>\n      <th>1</th>\n      <td>1</td>\n    </tr>\n    <tr>\n      <th>1</th>\n      <td>1</td>\n    </tr>\n    <tr>\n      <th>1</th>\n      <td>1</td>\n    </tr>\n    <tr>\n      <th>...</th>\n      <td>...</td>\n    </tr>\n    <tr>\n      <th>0</th>\n      <td>0</td>\n    </tr>\n    <tr>\n      <th>1</th>\n      <td>0</td>\n    </tr>\n    <tr>\n      <th>0</th>\n      <td>0</td>\n    </tr>\n    <tr>\n      <th>1</th>\n      <td>1</td>\n    </tr>\n    <tr>\n      <th>0</th>\n      <td>0</td>\n    </tr>\n  </tbody>\n</table>\n<p>2000 rows × 1 columns</p>\n</div>"
     },
     "execution_count": 39,
     "metadata": {},
     "output_type": "execute_result"
    }
   ],
   "source": [
    "Y_pred_pca = regr_pca.predict(X_test_pca)\n",
    "df2 = pd.DataFrame( Y_pred_pca, list(y_test))\n",
    "df2"
   ],
   "metadata": {
    "collapsed": false,
    "ExecuteTime": {
     "end_time": "2024-01-29T16:06:27.094157Z",
     "start_time": "2024-01-29T16:06:27.062523Z"
    }
   },
   "id": "61d4f3b3be53f2a3"
  },
  {
   "cell_type": "code",
   "execution_count": 40,
   "outputs": [
    {
     "name": "stdout",
     "output_type": "stream",
     "text": [
      "The R2 score is 0.831989247311828\n",
      "Time  0.21079611778259277\n",
      "Memory 16384\n"
     ]
    },
    {
     "data": {
      "text/plain": "36"
     },
     "execution_count": 40,
     "metadata": {},
     "output_type": "execute_result"
    }
   ],
   "source": [
    "print('The R2 score is', r2_score(y_test, Y_pred_pca))\n",
    "print('Time ', time_pca)\n",
    "print('Memory', mem_after_pca-mem_before_pca)\n",
    "pca.n_components_"
   ],
   "metadata": {
    "collapsed": false,
    "ExecuteTime": {
     "end_time": "2024-01-29T16:06:27.769172Z",
     "start_time": "2024-01-29T16:06:27.765724Z"
    }
   },
   "id": "91923e318d9c27d9"
  },
  {
   "cell_type": "code",
   "execution_count": 41,
   "outputs": [
    {
     "name": "stdout",
     "output_type": "stream",
     "text": [
      "The R2 score is 0.831989247311828\n",
      "Time  0.21079611778259277\n"
     ]
    },
    {
     "data": {
      "text/plain": "36"
     },
     "execution_count": 41,
     "metadata": {},
     "output_type": "execute_result"
    }
   ],
   "source": [
    "print('The R2 score is', r2_score(y_test, Y_pred_pca))\n",
    "print('Time ', time_pca)\n",
    "pca.n_components_"
   ],
   "metadata": {
    "collapsed": false,
    "ExecuteTime": {
     "end_time": "2024-01-29T16:06:28.213212Z",
     "start_time": "2024-01-29T16:06:28.208995Z"
    }
   },
   "id": "576ecd6ee95b32e5"
  },
  {
   "cell_type": "code",
   "execution_count": 42,
   "outputs": [
    {
     "name": "stdout",
     "output_type": "stream",
     "text": [
      "The R2 score is 0.831989247311828\n",
      "Time  0.21079611778259277\n"
     ]
    },
    {
     "data": {
      "text/plain": "36"
     },
     "execution_count": 42,
     "metadata": {},
     "output_type": "execute_result"
    }
   ],
   "source": [
    "print('The R2 score is', r2_score(y_test, Y_pred_pca))\n",
    "print('Time ', time_pca)\n",
    "pca.n_components_"
   ],
   "metadata": {
    "collapsed": false,
    "ExecuteTime": {
     "end_time": "2024-01-29T16:06:28.551592Z",
     "start_time": "2024-01-29T16:06:28.548561Z"
    }
   },
   "id": "dbd41132305e47b3"
  },
  {
   "cell_type": "code",
   "execution_count": 43,
   "outputs": [
    {
     "name": "stdout",
     "output_type": "stream",
     "text": [
      "The R2 score is 0.831989247311828\n",
      "Time  0.21079611778259277\n"
     ]
    },
    {
     "data": {
      "text/plain": "36"
     },
     "execution_count": 43,
     "metadata": {},
     "output_type": "execute_result"
    }
   ],
   "source": [
    "print('The R2 score is', r2_score(y_test, Y_pred_pca))\n",
    "print('Time ', time_pca)\n",
    "pca.n_components_"
   ],
   "metadata": {
    "collapsed": false,
    "ExecuteTime": {
     "end_time": "2024-01-29T16:06:30.715636Z",
     "start_time": "2024-01-29T16:06:30.705142Z"
    }
   },
   "id": "612272416e782af4"
  },
  {
   "cell_type": "code",
   "execution_count": 44,
   "outputs": [
    {
     "name": "stdout",
     "output_type": "stream",
     "text": [
      "The R2 score is 0.831989247311828\n",
      "Time  0.21079611778259277\n"
     ]
    },
    {
     "data": {
      "text/plain": "36"
     },
     "execution_count": 44,
     "metadata": {},
     "output_type": "execute_result"
    }
   ],
   "source": [
    "print('The R2 score is', r2_score(y_test, Y_pred_pca))\n",
    "print('Time ', time_pca)\n",
    "pca.n_components_"
   ],
   "metadata": {
    "collapsed": false,
    "ExecuteTime": {
     "end_time": "2024-01-29T16:06:35.242405Z",
     "start_time": "2024-01-29T16:06:35.231174Z"
    }
   },
   "id": "859b90f5ce03cc4e"
  }
 ],
 "metadata": {
  "kernelspec": {
   "display_name": "Python 3",
   "language": "python",
   "name": "python3"
  },
  "language_info": {
   "codemirror_mode": {
    "name": "ipython",
    "version": 2
   },
   "file_extension": ".py",
   "mimetype": "text/x-python",
   "name": "python",
   "nbconvert_exporter": "python",
   "pygments_lexer": "ipython2",
   "version": "2.7.6"
  }
 },
 "nbformat": 4,
 "nbformat_minor": 5
}
